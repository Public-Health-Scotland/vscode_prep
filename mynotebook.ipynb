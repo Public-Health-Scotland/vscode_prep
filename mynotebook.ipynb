{
 "cells": [
  {
   "cell_type": "code",
   "execution_count": 1,
   "metadata": {},
   "outputs": [],
   "source": [
    "# Import the libraries\n",
    "import pandas as pd\n",
    "import polars as pl\n",
    "import numpy as np\n",
    "import time"
   ]
  },
  {
   "cell_type": "code",
   "execution_count": 3,
   "metadata": {},
   "outputs": [
    {
     "data": {
      "text/plain": [
       "{'A': array([0.03612445, 0.43583479, 0.71135097, ..., 0.800422  , 0.72420771,\n",
       "        0.10569884], shape=(1000000,)),\n",
       " 'B': array([0.10080141, 0.92052894, 0.81283665, ..., 0.3400574 , 0.30070287,\n",
       "        0.14653654], shape=(1000000,)),\n",
       " 'C': array([0.49624026, 0.52524514, 0.41927624, ..., 0.36606881, 0.77843692,\n",
       "        0.41381019], shape=(1000000,))}"
      ]
     },
     "execution_count": 3,
     "metadata": {},
     "output_type": "execute_result"
    }
   ],
   "source": [
    "# Create a large DataFrame with random data\n",
    "num_rows = 10**6\n",
    "data = {\n",
    "    'A': np.random.rand(num_rows),\n",
    "    'B': np.random.rand(num_rows),\n",
    "    'C': np.random.rand(num_rows)\n",
    "}\n",
    "data"
   ]
  },
  {
   "cell_type": "code",
   "execution_count": 4,
   "metadata": {},
   "outputs": [
    {
     "name": "stdout",
     "output_type": "stream",
     "text": [
      "Pandas time: 0.0118 seconds\n",
      "Polars time: 0.0547 seconds\n"
     ]
    }
   ],
   "source": [
    "# Using pandas\n",
    "start_time = time.time()\n",
    "df_pandas = pd.DataFrame(data)\n",
    "df_pandas['D'] = df_pandas['A'] + df_pandas['B'] * df_pandas['C']\n",
    "pandas_time = time.time() - start_time\n",
    "\n",
    "# Using polars\n",
    "start_time = time.time()\n",
    "df_polars = pl.DataFrame(data)\n",
    "df_polars = df_polars.with_columns((df_polars['A'] + df_polars['B'] * df_polars['C']).alias('D'))\n",
    "polars_time = time.time() - start_time\n",
    "\n",
    "print(f\"Pandas time: {pandas_time:.4f} seconds\")\n",
    "print(f\"Polars time: {polars_time:.4f} seconds\")"
   ]
  }
 ],
 "metadata": {
  "kernelspec": {
   "display_name": "gatzenv",
   "language": "python",
   "name": "python3"
  },
  "language_info": {
   "codemirror_mode": {
    "name": "ipython",
    "version": 3
   },
   "file_extension": ".py",
   "mimetype": "text/x-python",
   "name": "python",
   "nbconvert_exporter": "python",
   "pygments_lexer": "ipython3",
   "version": "3.13.0"
  }
 },
 "nbformat": 4,
 "nbformat_minor": 2
}
